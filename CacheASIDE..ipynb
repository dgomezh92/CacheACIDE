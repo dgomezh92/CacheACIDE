{
 "cells": [
  {
   "cell_type": "markdown",
   "metadata": {},
   "source": []
  },
  {
   "cell_type": "code",
   "execution_count": null,
   "metadata": {},
   "outputs": [],
   "source": [
    "import psycopg2\n",
    "import redis"
   ]
  },
  {
   "cell_type": "markdown",
   "metadata": {},
   "source": []
  },
  {
   "cell_type": "code",
   "execution_count": null,
   "metadata": {},
   "outputs": [],
   "source": [
    "# Configuración de PostgreSQL\n",
    "pg_conn = psycopg2.connect(\n",
    "    dbname='Prueba',\n",
    "    user='Usuario_Prueba',\n",
    "    password='Password_Prueba',\n",
    "    host='localhost',\n",
    "    port='5432'\n",
    ")\n",
    "pg_cursor = pg_conn.cursor()\n",
    "\n",
    "# Configuración de Redis\n",
    "redis_client = redis.StrictRedis(\n",
    "    host='localhost',\n",
    "    port=6379,\n",
    "    db=0,\n",
    "    decode_responses=True  # Para decodificar las respuestas a strings\n",
    ")"
   ]
  },
  {
   "cell_type": "markdown",
   "metadata": {},
   "source": []
  },
  {
   "cell_type": "code",
   "execution_count": null,
   "metadata": {},
   "outputs": [],
   "source": [
    "def get_data(key):\n",
    "    data = redis_client.get(key)\n",
    "    if data:\n",
    "        print(f\"Datos obtenidos de la caché: {data}\")\n",
    "        return data\n",
    "    \n",
    "    pg_cursor.execute('SELECT nombre, descripcion FROM insercion WHERE id = %s', (key,))\n",
    "    result = pg_cursor.fetchone()\n",
    "    if result:\n",
    "        data = {'nombre': result[0], 'descripcion': result[1]}\n",
    "        redis_client.setex(key, 3600, str(data))\n",
    "        print(f\"Datos obtenidos de la base de datos y almacenados en caché: {data}\")\n",
    "        return data\n",
    "    else:\n",
    "        print(\"No se encontraron datos\")\n",
    "        return None\n"
   ]
  },
  {
   "cell_type": "markdown",
   "metadata": {},
   "source": []
  },
  {
   "cell_type": "code",
   "execution_count": null,
   "metadata": {},
   "outputs": [],
   "source": [
    "def save_data(key, nombre, descripcion):\n",
    "    try:\n",
    "        pg_cursor.execute('BEGIN')\n",
    "        pg_cursor.execute('INSERT INTO insercion (id, nombre, descripcion) VALUES (%s, %s, %s) ON CONFLICT (id) DO UPDATE SET nombre = EXCLUDED.nombre, descripcion = EXCLUDED.descripcion', (key, nombre, descripcion))\n",
    "        pg_conn.commit()\n",
    "        data = {'nombre': nombre, 'descripcion': descripcion}\n",
    "        redis_client.setex(key, 3600, str(data))\n",
    "        print(f\"Datos guardados en PostgreSQL y en caché: {data}\")\n",
    "    except Exception as e:\n",
    "        pg_conn.rollback()\n",
    "        print(f\"Error al guardar los datos: {e}\")\n",
    "        raise e\n"
   ]
  },
  {
   "cell_type": "markdown",
   "metadata": {},
   "source": []
  },
  {
   "cell_type": "code",
   "execution_count": null,
   "metadata": {},
   "outputs": [],
   "source": [
    "def delete_data(key):\n",
    "    try:\n",
    "        pg_cursor.execute('BEGIN')\n",
    "        pg_cursor.execute('DELETE FROM insercion WHERE id = %s', (key,))\n",
    "        pg_conn.commit()\n",
    "        redis_client.delete(key)\n",
    "        print(f\"Datos eliminados de PostgreSQL y caché para la clave: {key}\")\n",
    "    except Exception as e:\n",
    "        pg_conn.rollback()\n",
    "        print(f\"Error al eliminar los datos: {e}\")\n",
    "        raise e"
   ]
  },
  {
   "cell_type": "code",
   "execution_count": null,
   "metadata": {},
   "outputs": [],
   "source": [
    "# Ejemplo de uso\n",
    "save_data(1, 'Ejemplo', 'Esta es una descripción de ejemplo.')\n",
    "get_data(1)\n",
    "delete_data(1)"
   ]
  },
  {
   "cell_type": "code",
   "execution_count": null,
   "metadata": {},
   "outputs": [],
   "source": [
    "# Cerrar el cursor y la conexión\n",
    "pg_cursor.close()\n",
    "pg_conn.close()"
   ]
  }
 ],
 "metadata": {
  "kernelspec": {
   "display_name": "Python 3",
   "language": "python",
   "name": "python3"
  },
  "language_info": {
   "name": "python",
   "version": "3.11.2"
  }
 },
 "nbformat": 4,
 "nbformat_minor": 2
}
